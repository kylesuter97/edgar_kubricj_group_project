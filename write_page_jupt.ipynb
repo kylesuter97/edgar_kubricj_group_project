{
 "cells": [
  {
   "cell_type": "code",
   "execution_count": 1,
   "metadata": {},
   "outputs": [],
   "source": [
    "from selenium import webdriver\n",
    "from selenium.webdriver.common.keys import Keys\n",
    "import time\n",
    "import os\n",
    "import pandas as pd\n",
    "\n"
   ]
  },
  {
   "cell_type": "code",
   "execution_count": 8,
   "metadata": {},
   "outputs": [],
   "source": [
    "#url to 10-k filings - need to change to input argument later\n",
    "url = 'https://www.sec.gov/Archives/edgar/data/753308/000075330821000014/0000753308-21-000014-index.htm'\n",
    "\n",
    "driver = webdriver.Chrome()\n",
    "\n",
    "#Load EDGAR website\n",
    "driver.get(url)\n",
    "time.sleep(1)#Sleep to allow it to run\n",
    "#get filing date for later\n",
    "xpath_filing_date = r'//*[@id=\"formDiv\"]/div[2]/div[1]/div[2]'\n",
    "filingdate = driver.find_element(\"xpath\", xpath_filing_date).text\n"
   ]
  },
  {
   "cell_type": "code",
   "execution_count": 9,
   "metadata": {},
   "outputs": [],
   "source": [
    "#Link to html file\n",
    "xpath_ixbrl = r'//*[@id=\"formDiv\"]/div/table/tbody/tr[2]/td[3]/a'\n",
    "driver.find_element(\"xpath\", xpath_ixbrl).click()\n",
    "\n"
   ]
  },
  {
   "cell_type": "code",
   "execution_count": 10,
   "metadata": {},
   "outputs": [],
   "source": [
    "#If HTML+CSS, proceed to \"Open as HTML\", otherwise assume already HTML\n",
    "try:\n",
    "    #clicks on the menu button if present\n",
    "    xpath_menu = r'//*[@id=\"menu-dropdown-link\"]/i'\n",
    "    driver.find_element(\"xpath\", xpath_menu).click()\n",
    "\n",
    "    try:\n",
    "        xpath_final = r'//*[@id=\"form-information-html\"]'\n",
    "        driver.find_element(\"xpath\", xpath_final).click()\n",
    "        driver.switch_to.window(driver.window_handles[1])\n",
    "    except Exception:\n",
    "        pass\n",
    "except Exception:\n",
    "    pass\n",
    "time.sleep(4)\n"
   ]
  },
  {
   "cell_type": "code",
   "execution_count": 35,
   "metadata": {},
   "outputs": [],
   "source": [
    "#Writing to file - need to change the destination to an input argument later!\n",
    "foldername = r\"C:\\NotOneDrive\\Edgar\\htmls\"\n",
    "ticker = 'AAPL'\n",
    "file_name = '\\\\' + ticker + \"_10-k_\" + filingdate + \".html\"\n",
    "output = rf\"{foldername}{file_name}\"\n",
    "\n",
    "#print(output)\n",
    "try:\n",
    "    with open(output, \"w\", encoding='utf-8') as f:\n",
    "        f.write(driver.page_source)\n",
    "\n",
    "except FileExistsError:\n",
    "    print(\"One of the files already exists, please remove it\")\n"
   ]
  }
 ],
 "metadata": {
  "kernelspec": {
   "display_name": "Python 3",
   "language": "python",
   "name": "python3"
  },
  "language_info": {
   "codemirror_mode": {
    "name": "ipython",
    "version": 3
   },
   "file_extension": ".py",
   "mimetype": "text/x-python",
   "name": "python",
   "nbconvert_exporter": "python",
   "pygments_lexer": "ipython3",
   "version": "3.10.8"
  },
  "orig_nbformat": 4
 },
 "nbformat": 4,
 "nbformat_minor": 2
}

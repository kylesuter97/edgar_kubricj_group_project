{
 "cells": [
  {
   "cell_type": "code",
   "execution_count": 1,
   "metadata": {},
   "outputs": [],
   "source": [
    "from selenium import webdriver\n",
    "from selenium.webdriver.common.keys import Keys\n",
    "import time\n",
    "import os\n",
    "import pandas as pd\n"
   ]
  },
  {
   "cell_type": "code",
   "execution_count": 2,
   "metadata": {},
   "outputs": [],
   "source": [
    "#Saves varaible with local dir\n",
    "cwd = os.getcwd()\n",
    "#Sets up webdriver to save files to local dir\n",
    "options = webdriver.ChromeOptions() \n",
    "prefs = {\"download.default_directory\" : cwd}\n",
    "#example: prefs = {\"download.default_directory\" : \"C:\\Tutorial\\down\"};\n",
    "options.add_experimental_option(\"prefs\",prefs)"
   ]
  },
  {
   "cell_type": "code",
   "execution_count": 3,
   "metadata": {},
   "outputs": [],
   "source": [
    "#Creates driver object\n",
    "driver = webdriver.Chrome(options=options)\n",
    "\n",
    "#Load EDGAR website\n",
    "driver.get(r'https://www.sec.gov/edgar/searchedgar/companysearch')\n",
    "time.sleep(1)#Sleep to allow it to run\n"
   ]
  },
  {
   "cell_type": "code",
   "execution_count": 4,
   "metadata": {},
   "outputs": [],
   "source": [
    "#Xpath to search box on edgar\n",
    "xpath_search_box = r'//*[@id=\"edgar-company-person\"]'\n",
    "\n",
    "#Send the keystroke for requested 'ticker' followed by enter key to searchbox\n",
    "ticker = 'NEE' #REMEMBER TO CHANGE THIS TO USE INPUT ARGUEMENT LATER!\n",
    "driver.find_element(\"xpath\", xpath_search_box).send_keys(ticker, Keys.ENTER)\n",
    "time.sleep(1) #Sleep to allow it to run\n"
   ]
  },
  {
   "cell_type": "code",
   "execution_count": 6,
   "metadata": {},
   "outputs": [],
   "source": [
    "#Now we need to click on \"10-K (annual reports)...\" to expand collapsible\n",
    "xpath_10k_expand = r'//*[@id=\"filingsStart\"]/div[2]/div[3]/h5'\n",
    "driver.find_element(\"xpath\", xpath_10k_expand).click()\n",
    "time.sleep(1) #Sleep to allow it to run\n",
    "\n",
    "#Now click on \"View all 10-ks and 10-Qs\"\n",
    "xpath_10k_all= r'//*[@id=\"filingsStart\"]/div[2]/div[3]/div/button[1]'\n",
    "driver.find_element(\"xpath\", xpath_10k_all).click()\n",
    "time.sleep(1) #Sleep to allow it to run\n"
   ]
  },
  {
   "cell_type": "code",
   "execution_count": 7,
   "metadata": {},
   "outputs": [],
   "source": [
    "#Enter \"10-k\" in search box and then end\n",
    "#Send the keystroke for requested 'ticker' followed by enter key to searchbox\n",
    "xpath_filings = r'//*[@id=\"searchbox\"]'\n",
    "driver.find_element(\"xpath\", xpath_filings).send_keys(\"10-k\", Keys.ENTER)\n",
    "time.sleep(1) #Sleep to allow it to run"
   ]
  },
  {
   "cell_type": "code",
   "execution_count": 8,
   "metadata": {},
   "outputs": [],
   "source": [
    "#Deletes any previously downloaded edgar files that might crash the script\n",
    "try:\n",
    "    os.remove(\"EDGAR Entity Landing Page.xlsx\")\n",
    "except OSError:\n",
    "    pass\n"
   ]
  },
  {
   "cell_type": "code",
   "execution_count": 9,
   "metadata": {},
   "outputs": [],
   "source": [
    "\n",
    "#Downloads  excel to get links to all filings\n",
    "xpath_filings_excelbutton = r'//*[@id=\"filingsTable_wrapper\"]/div[1]/button[3]'\n",
    "driver.find_element(\"xpath\", xpath_filings_excelbutton).click()\n",
    "time.sleep(2) #Sleep to allow it to run\n"
   ]
  },
  {
   "cell_type": "code",
   "execution_count": 10,
   "metadata": {},
   "outputs": [],
   "source": [
    "\n",
    "#Closes driver\n",
    "driver.close()\n",
    "\n",
    "#renames file name to ticker_edgar_filings.xlsx, deletes if exists\n",
    "temp_file_name = f\"{ticker}_edgar_filings.xlsx\"\n",
    "try:\n",
    "    os.rename(\"EDGAR Entity Landing Page.xlsx\", temp_file_name)    \n",
    "except FileExistsError:\n",
    "    os.remove(temp_file_name)\n",
    "    os.rename(\"EDGAR Entity Landing Page.xlsx\", temp_file_name)\n",
    "\n"
   ]
  },
  {
   "cell_type": "code",
   "execution_count": 11,
   "metadata": {},
   "outputs": [
    {
     "data": {
      "text/plain": [
       "['https://www.sec.gov/Archives/edgar/data/753308/000075330823000019/0000753308-23-000019-index.htm',\n",
       " 'https://www.sec.gov/Archives/edgar/data/753308/000075330822000014/0000753308-22-000014-index.htm',\n",
       " 'https://www.sec.gov/Archives/edgar/data/753308/000075330821000014/0000753308-21-000014-index.htm',\n",
       " 'https://www.sec.gov/Archives/edgar/data/753308/000075330820000021/0000753308-20-000021-index.htm',\n",
       " 'https://www.sec.gov/Archives/edgar/data/753308/000075330819000039/0000753308-19-000039-index.htm',\n",
       " 'https://www.sec.gov/Archives/edgar/data/753308/000075330818000013/0000753308-18-000013-index.htm',\n",
       " 'https://www.sec.gov/Archives/edgar/data/753308/000075330817000060/0000753308-17-000060-index.htm',\n",
       " 'https://www.sec.gov/Archives/edgar/data/753308/000075330816000337/0000753308-16-000337-index.htm',\n",
       " 'https://www.sec.gov/Archives/edgar/data/753308/000075330815000079/0000753308-15-000079-index.htm']"
      ]
     },
     "metadata": {},
     "output_type": "display_data"
    }
   ],
   "source": [
    "#import to pandas df\n",
    "filings_raw_df = pd.read_excel(temp_file_name)\n",
    "\n",
    "#Drop unneeded columns and rename last to url\n",
    "cleaned_df = filings_raw_df.drop(columns=[\"EDGAR Entity Landing Page\", \"Unnamed: 1\", \"Unnamed: 2\",\"Unnamed: 3\"])\n",
    "\n",
    "#rename column, drop first 2 rows and missing values, reset index\n",
    "cleaned_df = cleaned_df.rename(columns=cleaned_df.iloc[1])\n",
    "cleaned_df = cleaned_df.drop([0,1])\n",
    "cleaned_df = cleaned_df.dropna(axis = 0) #\n",
    "cleaned_df.reset_index(drop=True, inplace=True)\n",
    "\n",
    "#Outputs list of all rls\n",
    "list_of_urls = cleaned_df[\"Filings URL\"].values.tolist()\n",
    "\n",
    "display(list_of_urls)\n",
    "\n",
    "#Delete excel file after done\n",
    "try:\n",
    "    os.remove(temp_file_name)    \n",
    "except FileNotFoundError:\n",
    "    pass"
   ]
  }
 ],
 "metadata": {
  "kernelspec": {
   "display_name": "Python 3",
   "language": "python",
   "name": "python3"
  },
  "language_info": {
   "codemirror_mode": {
    "name": "ipython",
    "version": 3
   },
   "file_extension": ".py",
   "mimetype": "text/x-python",
   "name": "python",
   "nbconvert_exporter": "python",
   "pygments_lexer": "ipython3",
   "version": "3.10.8"
  },
  "orig_nbformat": 4,
  "vscode": {
   "interpreter": {
    "hash": "369f2c481f4da34e4445cda3fffd2e751bd1c4d706f27375911949ba6bb62e1c"
   }
  }
 },
 "nbformat": 4,
 "nbformat_minor": 2
}
